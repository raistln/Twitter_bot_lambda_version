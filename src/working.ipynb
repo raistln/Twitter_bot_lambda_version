{
 "cells": [
  {
   "cell_type": "code",
   "execution_count": 4,
   "metadata": {},
   "outputs": [],
   "source": [
    "import os\n",
    "import random\n",
    "import json\n",
    "from pathlib import Path\n",
    "import tweepy\n",
    "import csv\n",
    "\n"
   ]
  },
  {
   "cell_type": "code",
   "execution_count": null,
   "metadata": {},
   "outputs": [],
   "source": [
    "ROOT = Path(__file__).resolve().parents[0]"
   ]
  },
  {
   "cell_type": "code",
   "execution_count": null,
   "metadata": {},
   "outputs": [],
   "source": [
    "def get_tweet(tweets_file, excluded_tweets=None):\n",
    "    \"\"\"Get tweet to post from CSV file\"\"\"\n",
    "\n",
    "    with open(tweets_file) as csvfile:\n",
    "        reader = csv.DictReader(csvfile)\n",
    "        possible_tweets = [row[\"tweet\"] for row in reader]\n",
    "\n",
    "    if excluded_tweets:\n",
    "        recent_tweets = [status_object.text for status_object in excluded_tweets]\n",
    "        possible_tweets = [tweet for tweet in possible_tweets if tweet not in recent_tweets]\n",
    "\n",
    "    selected_tweet = random.choice(possible_tweets)\n",
    "\n",
    "    return selected_tweet\n"
   ]
  },
  {
   "cell_type": "code",
   "execution_count": 5,
   "metadata": {},
   "outputs": [],
   "source": [
    "import os\n",
    "import random\n",
    "import json\n",
    "from pathlib import Path\n",
    "import tweepy\n",
    "import csv\n",
    "\n",
    "ROOT = Path(__file__).resolve().parents[0]\n",
    "\n",
    "def stewies_angry(tweets_file):\n",
    "    \n",
    "    picture = choice(os.listdir(\"pics/.\"))\n",
    "    my_image = Image.open(picture)\n",
    "    title_font = ImageFont.truetype('Roboto-Bold.ttf', 22)\n",
    "    \n",
    "    with open('stewie_angry.csv', newline='') as quote:\n",
    "        reader = csv.reader(quote)\n",
    "        angry = list(reader)\n",
    "    with open('excluded.csv', newline='') as quote:\n",
    "        reader = csv.reader(quote)\n",
    "        excluded = list(reader)\n",
    "    \n",
    "    insults = [insult for insult in angry if insult not in excluded]\n",
    "    choosed = choice(insults)\n",
    "\n",
    "    with open(r'excluded.csv', 'a') as f:\n",
    "        writer = csv.writer(f)\n",
    "        writer.writerow(choosed)\n",
    "    \n",
    "    quote = re.split(r\"\\.|\\,\", choosed[0], 1)\n",
    "    \n",
    "    if len(quote) == 2:\n",
    "        title_text1 = quote[0] + \",\"\n",
    "        title_text2 = quote[1]\n",
    "    else:\n",
    "        splitted = quote[0].split(\" \")\n",
    "        title_text1 = \" \".join(splitted[:len(splitted)//2])\n",
    "        title_text2 = \" \".join(splitted[len(splitted)//2:])\n",
    "    \n",
    "    image_editable = ImageDraw.Draw(my_image)\n",
    "    image_editable.text((25,20), text=title_text1, fill=(40, 46, 46), font=title_font)\n",
    "    image_editable.text((65,60), text=title_text2, fill=(40, 46, 46), font=title_font)\n",
    "    final_pic = my_image.save(\"result.jpg\")\n",
    "    \n",
    "    if len(excluded) == (len(angry)-1):\n",
    "        os.remove(\"exluded.csv\")\n",
    "        \n",
    "    return final_pic\n",
    "\n",
    "\n",
    "def lambda_handler(event, context):\n",
    "    print(\"Get credentials\")\n",
    "    consumer_key = os.getenv(\"CONSUMER_KEY\")\n",
    "    consumer_secret = os.getenv(\"CONSUMER_SECRET\")\n",
    "    access_token = os.getenv(\"ACCESS_TOKEN\")\n",
    "    access_token_secret = os.getenv(\"ACCESS_TOKEN_SECRET\")\n",
    "\n",
    "    print(\"Authenticate\")\n",
    "    auth = tweepy.OAuthHandler(consumer_key, consumer_secret)\n",
    "    auth.set_access_token(access_token, access_token_secret)\n",
    "    api = tweepy.API(auth)\n",
    "\n",
    "    print(\"Get tweet from csv file\")\n",
    "    tweets_file = ROOT / \"stewie_angry.csv\"\n",
    "    tweet = stewies_angry(tweets_file)\n",
    "\n",
    "    print(f\"Post tweet correct\")\n",
    "    api.update_with_media(tweet)\n",
    "\n",
    "    return {\"statusCode\": 200}"
   ]
  },
  {
   "cell_type": "code",
   "execution_count": 6,
   "metadata": {},
   "outputs": [],
   "source": [
    "def lambda_handler(event, context):\n",
    "    print(\"Get credentials\")\n",
    "    consumer_key = os.getenv(\"CONSUMER_KEY\")\n",
    "    consumer_secret = os.getenv(\"CONSUMER_SECRET\")\n",
    "    access_token = os.getenv(\"ACCESS_TOKEN\")\n",
    "    access_token_secret = os.getenv(\"ACCESS_TOKEN_SECRET\")\n",
    "\n",
    "    print(\"Authenticate\")\n",
    "    auth = tweepy.OAuthHandler(consumer_key, consumer_secret)\n",
    "    auth.set_access_token(access_token, access_token_secret)\n",
    "    api = tweepy.API(auth)\n",
    "\n",
    "    print(\"Get tweet from csv file\")\n",
    "    tweets_file = ROOT / \"stewie_angry.csv\"\n",
    "    tweet = stewies_angry(tweets_file)\n",
    "\n",
    "    print(f\"Post tweet correct\")\n",
    "    api.update_with_media(tweet)\n",
    "\n",
    "    return {\"statusCode\": 200, \"tweet\": tweet}"
   ]
  },
  {
   "cell_type": "code",
   "execution_count": 19,
   "metadata": {},
   "outputs": [
    {
     "data": {
      "text/plain": [
       "['stewie griffin.jpg']"
      ]
     },
     "execution_count": 19,
     "metadata": {},
     "output_type": "execute_result"
    }
   ],
   "source": [
    "arr = os.listdir(os.getcwd()+\"/stewie_pics\")\n",
    "arr"
   ]
  },
  {
   "cell_type": "code",
   "execution_count": 11,
   "metadata": {},
   "outputs": [
    {
     "data": {
      "text/plain": [
       "'/home/sam/Python y Machine Learning/Portfolio/Twitter_bot_lambda_version/src'"
      ]
     },
     "execution_count": 11,
     "metadata": {},
     "output_type": "execute_result"
    }
   ],
   "source": [
    "os.getcwd()\n"
   ]
  },
  {
   "cell_type": "code",
   "execution_count": 15,
   "metadata": {},
   "outputs": [
    {
     "data": {
      "text/plain": [
       "'/home/sam/Python y Machine Learning/Portfolio/Twitter_bot_lambda_version/src/stewie_pics'"
      ]
     },
     "execution_count": 15,
     "metadata": {},
     "output_type": "execute_result"
    }
   ],
   "source": [
    "os.path.realpath('.')+\"/stewie_pics\""
   ]
  },
  {
   "cell_type": "code",
   "execution_count": null,
   "metadata": {},
   "outputs": [],
   "source": []
  }
 ],
 "metadata": {
  "kernelspec": {
   "display_name": "Python 3",
   "language": "python",
   "name": "python3"
  },
  "language_info": {
   "codemirror_mode": {
    "name": "ipython",
    "version": 3
   },
   "file_extension": ".py",
   "mimetype": "text/x-python",
   "name": "python",
   "nbconvert_exporter": "python",
   "pygments_lexer": "ipython3",
   "version": "3.8.5"
  }
 },
 "nbformat": 4,
 "nbformat_minor": 4
}

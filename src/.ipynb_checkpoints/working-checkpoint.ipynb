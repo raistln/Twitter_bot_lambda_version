{
 "cells": [
  {
   "cell_type": "code",
   "execution_count": 4,
   "metadata": {},
   "outputs": [],
   "source": [
    "import os\n",
    "import random\n",
    "import json\n",
    "from pathlib import Path\n",
    "import tweepy\n",
    "import csv\n",
    "\n"
   ]
  },
  {
   "cell_type": "code",
   "execution_count": null,
   "metadata": {},
   "outputs": [],
   "source": [
    "ROOT = Path(__file__).resolve().parents[0]"
   ]
  },
  {
   "cell_type": "code",
   "execution_count": null,
   "metadata": {},
   "outputs": [],
   "source": [
    "def get_tweet(tweets_file, excluded_tweets=None):\n",
    "    \"\"\"Get tweet to post from CSV file\"\"\"\n",
    "\n",
    "    with open(tweets_file) as csvfile:\n",
    "        reader = csv.DictReader(csvfile)\n",
    "        possible_tweets = [row[\"tweet\"] for row in reader]\n",
    "\n",
    "    if excluded_tweets:\n",
    "        recent_tweets = [status_object.text for status_object in excluded_tweets]\n",
    "        possible_tweets = [tweet for tweet in possible_tweets if tweet not in recent_tweets]\n",
    "\n",
    "    selected_tweet = random.choice(possible_tweets)\n",
    "\n",
    "    return selected_tweet\n"
   ]
  },
  {
   "cell_type": "code",
   "execution_count": 5,
   "metadata": {},
   "outputs": [],
   "source": [
    "def stewies_angry(tweets_file, excluded=[]):\n",
    "    picture = choice(os.listdir(\"pics/.\"))\n",
    "    my_image = Image.open(picture)\n",
    "    title_font = ImageFont.truetype('Roboto-Bold.ttf', 22)\n",
    "    \n",
    "    insults = create_lst_quotes()\n",
    "    choosed = choice(insults)\n",
    "    exclude.append(choosed)\n",
    "    quote = re.split(r\"\\.|\\,\", choosed[0], 1)\n",
    "    \n",
    "    if len(quote) == 2:\n",
    "        title_text1 = quote[0] + \",\"\n",
    "        title_text2 = quote[1]\n",
    "    else:\n",
    "        splitted = quote[0].split(\" \")\n",
    "        title_text1 = \" \".join(splitted[:len(splitted)//2])\n",
    "        title_text2 = \" \".join(splitted[len(splitted)//2:])\n",
    "    \n",
    "    image_editable = ImageDraw.Draw(my_image)\n",
    "    image_editable.text((25,20), text=title_text1, fill=(40, 46, 46), font=title_font)\n",
    "    image_editable.text((65,60), text=title_text2, fill=(40, 46, 46), font=title_font)\n",
    "\n",
    "    final_pic = my_image.save(\"result.jpg\")\n",
    "    return final_pic"
   ]
  },
  {
   "cell_type": "code",
   "execution_count": 6,
   "metadata": {},
   "outputs": [],
   "source": [
    "def lambda_handler(event, context):\n",
    "    print(\"Get credentials\")\n",
    "    consumer_key = os.getenv(\"CONSUMER_KEY\")\n",
    "    consumer_secret = os.getenv(\"CONSUMER_SECRET\")\n",
    "    access_token = os.getenv(\"ACCESS_TOKEN\")\n",
    "    access_token_secret = os.getenv(\"ACCESS_TOKEN_SECRET\")\n",
    "\n",
    "    print(\"Authenticate\")\n",
    "    auth = tweepy.OAuthHandler(consumer_key, consumer_secret)\n",
    "    auth.set_access_token(access_token, access_token_secret)\n",
    "    api = tweepy.API(auth)\n",
    "\n",
    "    print(\"Get tweet from csv file\")\n",
    "    tweets_file = ROOT / \"tweets.csv\"\n",
    "    recent_tweets = api.user_timeline()[:3]\n",
    "    tweet = get_tweet(tweets_file)\n",
    "\n",
    "    print(f\"Post tweet: {tweet}\")\n",
    "    api.update_status(tweet)\n",
    "\n",
    "    return {\"statusCode\": 200, \"tweet\": tweet}"
   ]
  },
  {
   "cell_type": "code",
   "execution_count": 8,
   "metadata": {},
   "outputs": [
    {
     "data": {
      "text/plain": [
       "['stewie griffin.jpg']"
      ]
     },
     "execution_count": 8,
     "metadata": {},
     "output_type": "execute_result"
    }
   ],
   "source": [
    "arr = os.listdir(\"pics/.\")\n",
    "arr"
   ]
  },
  {
   "cell_type": "code",
   "execution_count": null,
   "metadata": {},
   "outputs": [],
   "source": []
  }
 ],
 "metadata": {
  "kernelspec": {
   "display_name": "Python 3",
   "language": "python",
   "name": "python3"
  },
  "language_info": {
   "codemirror_mode": {
    "name": "ipython",
    "version": 3
   },
   "file_extension": ".py",
   "mimetype": "text/x-python",
   "name": "python",
   "nbconvert_exporter": "python",
   "pygments_lexer": "ipython3",
   "version": "3.8.5"
  }
 },
 "nbformat": 4,
 "nbformat_minor": 4
}
